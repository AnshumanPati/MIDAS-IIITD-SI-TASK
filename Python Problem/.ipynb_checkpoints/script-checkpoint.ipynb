{
 "cells": [
  {
   "cell_type": "markdown",
   "metadata": {},
   "source": [
    "``The objective of this codeblock is to authorize our app to access Twitter. We use the OAuth interface"
   ]
  },
  {
   "cell_type": "code",
   "execution_count": null,
   "metadata": {},
   "outputs": [],
   "source": [
    "import tweepy\n",
    "from tweepy import OAuthHandler\n",
    " \n",
    "consumer_key = 'Ut1OtYh9eN3Kpsy23QNaTrWFA'\n",
    "consumer_secret = 'CVBKeMPpYQ0SCL0SEIO1rWAuGrUhUyO6L9kUUmOHZd8ICB6fOi'\n",
    "access_token = '746049926648504320-nciHdZeUMTusxa4Y63oJ5yYhaTVpEvj'\n",
    "access_secret = 'w6gnrTuQrWXlUc0eAFa9fvAbIbYoEipQowsHxscPAhLTH'\n",
    " \n",
    "auth = OAuthHandler(consumer_key, consumer_secret)\n",
    "auth.set_access_token(access_token, access_secret)\n",
    " \n",
    "api = tweepy.API(auth)"
   ]
  },
  {
   "cell_type": "markdown",
   "metadata": {},
   "source": [
    "``'api' variable will be manipulated to carry out the various operations we perform."
   ]
  },
  {
   "cell_type": "code",
   "execution_count": null,
   "metadata": {},
   "outputs": [],
   "source": []
  }
 ],
 "metadata": {
  "kernelspec": {
   "display_name": "Python 3",
   "language": "python",
   "name": "python3"
  },
  "language_info": {
   "codemirror_mode": {
    "name": "ipython",
    "version": 3
   },
   "file_extension": ".py",
   "mimetype": "text/x-python",
   "name": "python",
   "nbconvert_exporter": "python",
   "pygments_lexer": "ipython3",
   "version": "3.7.1"
  }
 },
 "nbformat": 4,
 "nbformat_minor": 2
}
