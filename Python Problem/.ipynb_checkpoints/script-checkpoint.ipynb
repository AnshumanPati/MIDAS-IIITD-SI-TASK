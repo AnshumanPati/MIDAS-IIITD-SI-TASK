{
 "cells": [
  {
   "cell_type": "markdown",
   "metadata": {},
   "source": [
    "**Pre-requirements**"
   ]
  },
  {
   "cell_type": "markdown",
   "metadata": {},
   "source": [
    "We create our developer account on http://developer.twitter.com/ and register our app on http://apps.twitter.com. The current name for the app is MIDAS-python registered with App ID 16171269. "
   ]
  },
  {
   "cell_type": "markdown",
   "metadata": {},
   "source": [
    "To access and interact with the twitter app service we use REST APIs provided by Twitter. We use Tweepy for this project. Hence we install Tweepy in the following."
   ]
  },
  {
   "cell_type": "code",
   "execution_count": 13,
   "metadata": {},
   "outputs": [
    {
     "name": "stdout",
     "output_type": "stream",
     "text": [
      "Collecting tweepy==3.5.0\n",
      "  Downloading https://files.pythonhosted.org/packages/9d/8f/167f956350f4e6098e699d2b6f99192cc22971b40624a0f3b8011b4e9f38/tweepy-3.5.0-py2.py3-none-any.whl\n",
      "Collecting requests-oauthlib>=0.4.1 (from tweepy==3.5.0)\n",
      "  Using cached https://files.pythonhosted.org/packages/c2/e2/9fd03d55ffb70fe51f587f20bcf407a6927eb121de86928b34d162f0b1ac/requests_oauthlib-1.2.0-py2.py3-none-any.whl\n",
      "Collecting six>=1.7.3 (from tweepy==3.5.0)\n",
      "  Using cached https://files.pythonhosted.org/packages/73/fb/00a976f728d0d1fecfe898238ce23f502a721c0ac0ecfedb80e0d88c64e9/six-1.12.0-py2.py3-none-any.whl\n",
      "Collecting requests>=2.4.3 (from tweepy==3.5.0)\n",
      "  Using cached https://files.pythonhosted.org/packages/7d/e3/20f3d364d6c8e5d2353c72a67778eb189176f08e873c9900e10c0287b84b/requests-2.21.0-py2.py3-none-any.whl\n",
      "Collecting oauthlib>=3.0.0 (from requests-oauthlib>=0.4.1->tweepy==3.5.0)\n",
      "  Using cached https://files.pythonhosted.org/packages/16/95/699466b05b72b94a41f662dc9edf87fda4289e3602ecd42d27fcaddf7b56/oauthlib-3.0.1-py2.py3-none-any.whl\n",
      "Collecting idna<2.9,>=2.5 (from requests>=2.4.3->tweepy==3.5.0)\n",
      "  Using cached https://files.pythonhosted.org/packages/14/2c/cd551d81dbe15200be1cf41cd03869a46fe7226e7450af7a6545bfc474c9/idna-2.8-py2.py3-none-any.whl\n",
      "Collecting chardet<3.1.0,>=3.0.2 (from requests>=2.4.3->tweepy==3.5.0)\n",
      "  Using cached https://files.pythonhosted.org/packages/bc/a9/01ffebfb562e4274b6487b4bb1ddec7ca55ec7510b22e4c51f14098443b8/chardet-3.0.4-py2.py3-none-any.whl\n",
      "Collecting urllib3<1.25,>=1.21.1 (from requests>=2.4.3->tweepy==3.5.0)\n",
      "  Using cached https://files.pythonhosted.org/packages/62/00/ee1d7de624db8ba7090d1226aebefab96a2c71cd5cfa7629d6ad3f61b79e/urllib3-1.24.1-py2.py3-none-any.whl\n",
      "Collecting certifi>=2017.4.17 (from requests>=2.4.3->tweepy==3.5.0)\n",
      "  Using cached https://files.pythonhosted.org/packages/60/75/f692a584e85b7eaba0e03827b3d51f45f571c2e793dd731e598828d380aa/certifi-2019.3.9-py2.py3-none-any.whl\n",
      "Installing collected packages: idna, chardet, urllib3, certifi, requests, oauthlib, requests-oauthlib, six, tweepy\n",
      "Successfully installed certifi-2019.3.9 chardet-3.0.4 idna-2.8 oauthlib-3.0.1 requests-2.21.0 requests-oauthlib-1.2.0 six-1.12.0 tweepy-3.5.0 urllib3-1.24.1\n"
     ]
    }
   ],
   "source": [
    "!pip3 install tweepy==3.5.0"
   ]
  },
  {
   "cell_type": "markdown",
   "metadata": {},
   "source": [
    "We check if tweepy is correctly installed in our system. By scrolling in the following we can check that tweepy is indeed correctly installed."
   ]
  },
  {
   "cell_type": "code",
   "execution_count": 14,
   "metadata": {},
   "outputs": [
    {
     "name": "stdout",
     "output_type": "stream",
     "text": [
      "alabaster==0.7.8\r\n",
      "apturl==0.5.2\r\n",
      "asn1crypto==0.24.0\r\n",
      "astroid==1.6.0\r\n",
      "attrs==18.2.0\r\n",
      "Automat==0.7.0\r\n",
      "Babel==2.4.0\r\n",
      "beautifulsoup4==4.7.1\r\n",
      "bleach==2.1.2\r\n",
      "Brlapi==0.6.5\r\n",
      "bs4==0.0.1\r\n",
      "certifi==2019.3.9\r\n",
      "cffi==1.12.0\r\n",
      "chardet==3.0.4\r\n",
      "cloudpickle==0.5.2\r\n",
      "command-not-found==0.3\r\n",
      "constantly==15.1.0\r\n",
      "cryptography==2.5\r\n",
      "cssselect==1.0.3\r\n",
      "cupshelpers==1.0\r\n",
      "decorator==4.1.2\r\n",
      "defer==1.0.6\r\n",
      "distro-info==0.17\r\n",
      "Django==2.0.6\r\n",
      "docutils==0.14\r\n",
      "entrypoints==0.2.3.post1\r\n",
      "feedparser==5.1.3\r\n",
      "html5lib==0.999999999\r\n",
      "httplib2==0.9.2\r\n",
      "hyperlink==18.0.0\r\n",
      "idna==2.8\r\n",
      "imagesize==0.7.1\r\n",
      "incremental==17.5.0\r\n",
      "ipykernel==4.8.2\r\n",
      "ipython==5.5.0\r\n",
      "ipython-genutils==0.2.0\r\n",
      "isort==4.3.4\r\n",
      "jedi==0.11.1\r\n",
      "Jinja2==2.10\r\n",
      "jsonpatch==1.16\r\n",
      "jsonpointer==1.10\r\n",
      "jsonschema==2.6.0\r\n",
      "jupyter-client==5.2.2\r\n",
      "jupyter-core==4.4.0\r\n",
      "keyring==10.4.0\r\n",
      "keyrings.alt==2.2\r\n",
      "language-selector==0.1\r\n",
      "launchpadlib==1.10.5\r\n",
      "lazr.restfulclient==0.13.5\r\n",
      "lazr.uri==1.0.3\r\n",
      "lazy-object-proxy==1.3.1\r\n",
      "lightfm==1.15\r\n",
      "logilab-common==1.4.1\r\n",
      "louis==3.0.0\r\n",
      "lxc==0.1\r\n",
      "lxml==4.3.1\r\n",
      "Mako==1.0.7\r\n",
      "MarkupSafe==1.0\r\n",
      "mccabe==0.6.1\r\n",
      "mistune==0.8.3\r\n",
      "nbconvert==5.3.1\r\n",
      "nbformat==4.4.0\r\n",
      "nltk==3.4\r\n",
      "numpy==1.16.1\r\n",
      "numpydoc==0.7.0\r\n",
      "oauth==1.0.1\r\n",
      "oauthlib==3.0.1\r\n",
      "olefile==0.44\r\n",
      "pandas==0.24.1\r\n",
      "pandocfilters==1.4.2\r\n",
      "parso==0.1.1\r\n",
      "pbr==4.0.4\r\n",
      "pexpect==4.2.1\r\n",
      "photocollage==1.4.4\r\n",
      "pickleshare==0.7.4\r\n",
      "Pillow==4.1.1\r\n",
      "powerline-gitstatus==1.2.1\r\n",
      "powerline-status==2.5\r\n",
      "prompt-toolkit==1.0.15\r\n",
      "psutil==5.0.1\r\n",
      "psycopg2==2.7.5\r\n",
      "pyasn1==0.4.5\r\n",
      "pyasn1-modules==0.2.4\r\n",
      "pycodestyle==2.3.1\r\n",
      "pycparser==2.19\r\n",
      "pycrypto==2.6.1\r\n",
      "pycups==1.9.73\r\n",
      "pyflakes==1.6.0\r\n",
      "Pygments==2.2.0\r\n",
      "pygobject==3.24.1\r\n",
      "PyHamcrest==1.9.0\r\n",
      "pylint==1.8.3\r\n",
      "pymongo==3.7.2\r\n",
      "pyOpenSSL==19.0.0\r\n",
      "python-apt==1.4.0b3\r\n",
      "python-dateutil==2.8.0\r\n",
      "python-debian==0.1.30\r\n",
      "pytz==2018.9\r\n",
      "pyxdg==0.25\r\n",
      "PyYAML==3.12\r\n",
      "pyzmq==16.0.2\r\n",
      "QtAwesome==0.4.4\r\n",
      "qtconsole==4.3.1\r\n",
      "QtPy==1.3.1\r\n",
      "queuelib==1.5.0\r\n",
      "rake-nltk==1.0.4\r\n",
      "reportlab==3.4.0\r\n",
      "requests==2.21.0\r\n",
      "requests-oauthlib==1.2.0\r\n",
      "roman==2.0.0\r\n",
      "rope==0.10.5\r\n",
      "scikit-learn==0.20.2\r\n",
      "scipy==1.2.1\r\n",
      "Scrapy==1.0.3\r\n",
      "SecretStorage==2.3.1\r\n",
      "service-identity==18.1.0\r\n",
      "simplegeneric==0.8.1\r\n",
      "simplejson==3.16.0\r\n",
      "singledispatch==3.4.0.3\r\n",
      "six==1.12.0\r\n",
      "sklearn==0.0\r\n",
      "soupsieve==1.7.3\r\n",
      "Sphinx==1.6.7\r\n",
      "spyder==3.2.6\r\n",
      "stevedore==1.28.0\r\n",
      "system-service==0.3\r\n",
      "systemd-python==234\r\n",
      "testpath==0.3.1\r\n",
      "tornado==4.5.3\r\n",
      "traitlets==4.3.2\r\n",
      "tweepy==3.5.0\r\n",
      "Twisted==18.9.0\r\n",
      "ubuntu-drivers-common==0.0.0\r\n",
      "ufw==0.35\r\n",
      "unattended-upgrades==0.1\r\n",
      "unity-scope-calculator==0.1\r\n",
      "unity-scope-chromiumbookmarks==0.1\r\n",
      "unity-scope-colourlovers==0.1\r\n",
      "unity-scope-devhelp==0.1\r\n",
      "unity-scope-firefoxbookmarks==0.1\r\n",
      "unity-scope-manpages==0.1\r\n",
      "unity-scope-openclipart==0.1\r\n",
      "unity-scope-texdoc==0.1\r\n",
      "unity-scope-tomboy==0.1\r\n",
      "unity-scope-virtualbox==0.1\r\n",
      "unity-scope-yelp==0.1\r\n",
      "unity-scope-zotero==0.1\r\n",
      "unity-tweak-tool==0.0.7\r\n",
      "urllib3==1.24.1\r\n",
      "usb-creator==0.3.3\r\n",
      "virtualenv==16.0.0\r\n",
      "virtualenv-clone==0.3.0\r\n",
      "virtualenvwrapper==4.8.2\r\n",
      "w3lib==1.20.0\r\n",
      "wadllib==1.3.2\r\n",
      "wcwidth==0.1.7\r\n",
      "webencodings==0.5\r\n",
      "wrapt==1.9.0\r\n",
      "xkit==0.0.0\r\n",
      "zope.interface==4.6.0\r\n"
     ]
    }
   ],
   "source": [
    "!pip3 freeze"
   ]
  },
  {
   "cell_type": "markdown",
   "metadata": {},
   "source": [
    "For writing the contents onto JSONlines file, we use simplejson. We install simplejson using pip3."
   ]
  },
  {
   "cell_type": "code",
   "execution_count": 15,
   "metadata": {},
   "outputs": [
    {
     "name": "stdout",
     "output_type": "stream",
     "text": [
      "Collecting simplejson\n",
      "Installing collected packages: simplejson\n",
      "Successfully installed simplejson-3.16.0\n",
      "Segmentation fault (core dumped)\n"
     ]
    }
   ],
   "source": [
    "!pip3 install simplejson"
   ]
  },
  {
   "cell_type": "markdown",
   "metadata": {},
   "source": [
    "To check simplejson is correctly installed"
   ]
  },
  {
   "cell_type": "code",
   "execution_count": 16,
   "metadata": {},
   "outputs": [
    {
     "name": "stdout",
     "output_type": "stream",
     "text": [
      "alabaster==0.7.8\r\n",
      "apturl==0.5.2\r\n",
      "asn1crypto==0.24.0\r\n",
      "astroid==1.6.0\r\n",
      "attrs==18.2.0\r\n",
      "Automat==0.7.0\r\n",
      "Babel==2.4.0\r\n",
      "beautifulsoup4==4.7.1\r\n",
      "bleach==2.1.2\r\n",
      "Brlapi==0.6.5\r\n",
      "bs4==0.0.1\r\n",
      "certifi==2019.3.9\r\n",
      "cffi==1.12.0\r\n",
      "chardet==3.0.4\r\n",
      "cloudpickle==0.5.2\r\n",
      "command-not-found==0.3\r\n",
      "constantly==15.1.0\r\n",
      "cryptography==2.5\r\n",
      "cssselect==1.0.3\r\n",
      "cupshelpers==1.0\r\n",
      "decorator==4.1.2\r\n",
      "defer==1.0.6\r\n",
      "distro-info==0.17\r\n",
      "Django==2.0.6\r\n",
      "docutils==0.14\r\n",
      "entrypoints==0.2.3.post1\r\n",
      "feedparser==5.1.3\r\n",
      "html5lib==0.999999999\r\n",
      "httplib2==0.9.2\r\n",
      "hyperlink==18.0.0\r\n",
      "idna==2.8\r\n",
      "imagesize==0.7.1\r\n",
      "incremental==17.5.0\r\n",
      "ipykernel==4.8.2\r\n",
      "ipython==5.5.0\r\n",
      "ipython-genutils==0.2.0\r\n",
      "isort==4.3.4\r\n",
      "jedi==0.11.1\r\n",
      "Jinja2==2.10\r\n",
      "jsonpatch==1.16\r\n",
      "jsonpointer==1.10\r\n",
      "jsonschema==2.6.0\r\n",
      "jupyter-client==5.2.2\r\n",
      "jupyter-core==4.4.0\r\n",
      "keyring==10.4.0\r\n",
      "keyrings.alt==2.2\r\n",
      "language-selector==0.1\r\n",
      "launchpadlib==1.10.5\r\n",
      "lazr.restfulclient==0.13.5\r\n",
      "lazr.uri==1.0.3\r\n",
      "lazy-object-proxy==1.3.1\r\n",
      "lightfm==1.15\r\n",
      "logilab-common==1.4.1\r\n",
      "louis==3.0.0\r\n",
      "lxc==0.1\r\n",
      "lxml==4.3.1\r\n",
      "Mako==1.0.7\r\n",
      "MarkupSafe==1.0\r\n",
      "mccabe==0.6.1\r\n",
      "mistune==0.8.3\r\n",
      "nbconvert==5.3.1\r\n",
      "nbformat==4.4.0\r\n",
      "nltk==3.4\r\n",
      "numpy==1.16.1\r\n",
      "numpydoc==0.7.0\r\n",
      "oauth==1.0.1\r\n",
      "oauthlib==3.0.1\r\n",
      "olefile==0.44\r\n",
      "pandas==0.24.1\r\n",
      "pandocfilters==1.4.2\r\n",
      "parso==0.1.1\r\n",
      "pbr==4.0.4\r\n",
      "pexpect==4.2.1\r\n",
      "photocollage==1.4.4\r\n",
      "pickleshare==0.7.4\r\n",
      "Pillow==4.1.1\r\n",
      "powerline-gitstatus==1.2.1\r\n",
      "powerline-status==2.5\r\n",
      "prompt-toolkit==1.0.15\r\n",
      "psutil==5.0.1\r\n",
      "psycopg2==2.7.5\r\n",
      "pyasn1==0.4.5\r\n",
      "pyasn1-modules==0.2.4\r\n",
      "pycodestyle==2.3.1\r\n",
      "pycparser==2.19\r\n",
      "pycrypto==2.6.1\r\n",
      "pycups==1.9.73\r\n",
      "pyflakes==1.6.0\r\n",
      "Pygments==2.2.0\r\n",
      "pygobject==3.24.1\r\n",
      "PyHamcrest==1.9.0\r\n",
      "pylint==1.8.3\r\n",
      "pymongo==3.7.2\r\n",
      "pyOpenSSL==19.0.0\r\n",
      "python-apt==1.4.0b3\r\n",
      "python-dateutil==2.8.0\r\n",
      "python-debian==0.1.30\r\n",
      "pytz==2018.9\r\n",
      "pyxdg==0.25\r\n",
      "PyYAML==3.12\r\n",
      "pyzmq==16.0.2\r\n",
      "QtAwesome==0.4.4\r\n",
      "qtconsole==4.3.1\r\n",
      "QtPy==1.3.1\r\n",
      "queuelib==1.5.0\r\n",
      "rake-nltk==1.0.4\r\n",
      "reportlab==3.4.0\r\n",
      "requests==2.21.0\r\n",
      "requests-oauthlib==1.2.0\r\n",
      "roman==2.0.0\r\n",
      "rope==0.10.5\r\n",
      "scikit-learn==0.20.2\r\n",
      "scipy==1.2.1\r\n",
      "Scrapy==1.0.3\r\n",
      "SecretStorage==2.3.1\r\n",
      "service-identity==18.1.0\r\n",
      "simplegeneric==0.8.1\r\n",
      "simplejson==3.16.0\r\n",
      "singledispatch==3.4.0.3\r\n",
      "six==1.12.0\r\n",
      "sklearn==0.0\r\n",
      "soupsieve==1.7.3\r\n",
      "Sphinx==1.6.7\r\n",
      "spyder==3.2.6\r\n",
      "stevedore==1.28.0\r\n",
      "system-service==0.3\r\n",
      "systemd-python==234\r\n",
      "testpath==0.3.1\r\n",
      "tornado==4.5.3\r\n",
      "traitlets==4.3.2\r\n",
      "tweepy==3.5.0\r\n",
      "Twisted==18.9.0\r\n",
      "ubuntu-drivers-common==0.0.0\r\n",
      "ufw==0.35\r\n",
      "unattended-upgrades==0.1\r\n",
      "unity-scope-calculator==0.1\r\n",
      "unity-scope-chromiumbookmarks==0.1\r\n",
      "unity-scope-colourlovers==0.1\r\n",
      "unity-scope-devhelp==0.1\r\n",
      "unity-scope-firefoxbookmarks==0.1\r\n",
      "unity-scope-manpages==0.1\r\n",
      "unity-scope-openclipart==0.1\r\n",
      "unity-scope-texdoc==0.1\r\n",
      "unity-scope-tomboy==0.1\r\n",
      "unity-scope-virtualbox==0.1\r\n",
      "unity-scope-yelp==0.1\r\n",
      "unity-scope-zotero==0.1\r\n",
      "unity-tweak-tool==0.0.7\r\n",
      "urllib3==1.24.1\r\n",
      "usb-creator==0.3.3\r\n",
      "virtualenv==16.0.0\r\n",
      "virtualenv-clone==0.3.0\r\n",
      "virtualenvwrapper==4.8.2\r\n",
      "w3lib==1.20.0\r\n",
      "wadllib==1.3.2\r\n",
      "wcwidth==0.1.7\r\n",
      "webencodings==0.5\r\n",
      "wrapt==1.9.0\r\n",
      "xkit==0.0.0\r\n",
      "zope.interface==4.6.0\r\n"
     ]
    }
   ],
   "source": [
    "!pip3 freeze"
   ]
  },
  {
   "cell_type": "markdown",
   "metadata": {},
   "source": [
    "**Coding Phase**"
   ]
  },
  {
   "cell_type": "markdown",
   "metadata": {},
   "source": [
    "In order to authorise MIDAS-python app to access Twitter we need to provide an OAuth interface:"
   ]
  },
  {
   "cell_type": "code",
   "execution_count": null,
   "metadata": {},
   "outputs": [],
   "source": [
    "import tweepy\n",
    "from tweepy import OAuthHandler\n",
    "import csv\n",
    "import simplejson as json\n",
    "\n",
    "#Twitter API credentials\n",
    "consumer_key = ''\n",
    "consumer_secret = ''\n",
    "access_key = ''\n",
    "access_secret = ''\n",
    "\n",
    "\n",
    "def get_tweets(screen_name):\n",
    "\t#Twitter only allows access to a users most recent 3240 tweets with this method\n",
    "\t\n",
    "\t#authorize twitter, initialize tweepy\n",
    "\tauth = tweepy.OAuthHandler(consumer_key, consumer_secret)\n",
    "\tauth.set_access_token(access_key, access_secret)\n",
    "\tapi = tweepy.API(auth)\n",
    "\t"
   ]
  },
  {
   "cell_type": "markdown",
   "metadata": {},
   "source": [
    "We manipulate the _api_ variable for the operations."
   ]
  },
  {
   "cell_type": "markdown",
   "metadata": {},
   "source": [
    "Next, we declare a list `alltweets` where we will be storing all the tweets for the given user. We store all the tweets from user midasIIITD at twitter. We store the most recent tweets and the id of the oldest tweet in the `alltweets` list obtained at that instance."
   ]
  },
  {
   "cell_type": "code",
   "execution_count": null,
   "metadata": {},
   "outputs": [],
   "source": [
    "    alltweets = []\t\n",
    "\t\n",
    "\t#make initial request for most recent tweets (200 is the maximum count allowed)\n",
    "\tnew_tweets = api.user_timeline(screen_name = screen_name,count=200)\n",
    "\t\n",
    "\t#store most recent tweets\n",
    "\talltweets.extend(new_tweets)\n",
    "\t\n",
    "\t#save the id of the oldest tweet - 1\n",
    "\toldest = alltweets[-1].id - 1"
   ]
  },
  {
   "cell_type": "markdown",
   "metadata": {},
   "source": [
    "The intention of this was to loop the following code block and store the tweets we obtain in `new_tweets`, and we extend `alltweets` to store this data. The loop goes on till we cannot find any more tweets to read i.e. till `new_tweets` is empty."
   ]
  },
  {
   "cell_type": "code",
   "execution_count": null,
   "metadata": {},
   "outputs": [],
   "source": [
    "    while len(new_tweets) > 0:\n",
    "\t\tprint \"getting tweets before %s\" % (oldest)\n",
    "\t\t\n",
    "\t\t#all subsiquent requests use the max_id param to prevent duplicates\n",
    "\t\tnew_tweets = api.user_timeline(screen_name = screen_name,count=200,max_id=oldest)\n",
    "\t\t\n",
    "\t\t#save most recent tweets\n",
    "\t\talltweets.extend(new_tweets)\n",
    "\t\t\n",
    "\t\t#update the id of the oldest tweet less one\n",
    "\t\toldest = alltweets[-1].id - 1\n",
    "\t\t\n",
    "\t\tprint \"...%s tweets downloaded so far\" % (len(alltweets))"
   ]
  },
  {
   "cell_type": "markdown",
   "metadata": {},
   "source": [
    "We transform the tweepy tweets into a 2D array that will populate the csv file. "
   ]
  },
  {
   "cell_type": "code",
   "execution_count": null,
   "metadata": {},
   "outputs": [],
   "source": [
    "    outtweets = [[tweet.id_str, tweet.created_at, tweet.text.encode(\"utf-8\")] for tweet in alltweets]"
   ]
  },
  {
   "cell_type": "markdown",
   "metadata": {},
   "source": [
    "We write the the data stored in alltweets to `tweet.json` file. "
   ]
  },
  {
   "cell_type": "code",
   "execution_count": null,
   "metadata": {},
   "outputs": [],
   "source": [
    "    #write objects to JSON\n",
    "\tfile = open('tweet.json', 'w') \n",
    "\tprint (\"Writing tweet objects to JSON please wait...\")\n",
    "\tfor status in alltweets:\n",
    "\t\tjson.dump(status._json,file,sort_keys = True,indent = 4)\n",
    "\n",
    "\t#close the file\n",
    "\tprint (\"Done\")\n",
    "\tfile.close()"
   ]
  },
  {
   "cell_type": "markdown",
   "metadata": {},
   "source": [
    "We write the data stored in alltweets to `tweets.csv` file."
   ]
  },
  {
   "cell_type": "code",
   "execution_count": null,
   "metadata": {},
   "outputs": [],
   "source": [
    "\t#write the csv\t\n",
    "\twith open('%s_tweets.csv' % screen_name, 'w') as f:\n",
    "\t\tprint(\"Writing tweet objects to CSV please wait...\")\n",
    "\t\twriter = csv.writer(f)\n",
    "\t\twriter.writerow([\"id\",\"created_at\",\"text\"])\n",
    "\t\twriter.writerows(outtweets)\n",
    "\n",
    "\tprint(\"Done\")\n",
    "\n",
    "\n",
    "\tpass"
   ]
  },
  {
   "cell_type": "markdown",
   "metadata": {},
   "source": [
    "Finally, we pass _midasIIITD_ as the twitter handle to request all the tweets being made by them."
   ]
  },
  {
   "cell_type": "code",
   "execution_count": null,
   "metadata": {},
   "outputs": [],
   "source": [
    "if __name__ == '__main__':\n",
    "\t#pass in the username of the account you want to download\n",
    "\tget_all_tweets(\"midasIIITD\")"
   ]
  }
 ],
 "metadata": {
  "kernelspec": {
   "display_name": "Python 3",
   "language": "python",
   "name": "python3"
  },
  "language_info": {
   "codemirror_mode": {
    "name": "ipython",
    "version": 3
   },
   "file_extension": ".py",
   "mimetype": "text/x-python",
   "name": "python",
   "nbconvert_exporter": "python",
   "pygments_lexer": "ipython3",
   "version": "3.7.1"
  }
 },
 "nbformat": 4,
 "nbformat_minor": 2
}
