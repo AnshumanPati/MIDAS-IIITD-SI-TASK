{
 "cells": [
  {
   "cell_type": "markdown",
   "metadata": {},
   "source": [
    "**Pre-requirements**"
   ]
  },
  {
   "cell_type": "markdown",
   "metadata": {},
   "source": [
    "We create our developer account on http://developer.twitter.com/ and register our app on http://apps.twitter.com. The current name for the app is MIDAS-python registered with App ID 16171269. "
   ]
  },
  {
   "cell_type": "markdown",
   "metadata": {},
   "source": [
    "To access and interact with the twitter app service we use REST APIs provided by Twitter. We use Tweepy for this project. Hence we install Tweepy in the following."
   ]
  },
  {
   "cell_type": "code",
   "execution_count": null,
   "metadata": {},
   "outputs": [],
   "source": [
    "!pip3 install tweepy==3.5.0"
   ]
  },
  {
   "cell_type": "markdown",
   "metadata": {},
   "source": [
    "We check if tweepy is correctly installed in our system. By scrolling in the following we can check that tweepy is indeed correctly installed."
   ]
  },
  {
   "cell_type": "code",
   "execution_count": 7,
   "metadata": {},
   "outputs": [
    {
     "name": "stdout",
     "output_type": "stream",
     "text": [
      "alabaster==0.7.8\n",
      "apturl==0.5.2\n",
      "asn1crypto==0.24.0\n",
      "astroid==1.6.0\n",
      "attrs==18.2.0\n",
      "Automat==0.7.0\n",
      "Babel==2.4.0\n",
      "beautifulsoup4==4.7.1\n",
      "bleach==2.1.2\n",
      "Brlapi==0.6.5\n",
      "bs4==0.0.1\n",
      "certifi==2019.3.9\n",
      "cffi==1.12.0\n",
      "chardet==3.0.4\n",
      "cloudpickle==0.5.2\n",
      "command-not-found==0.3\n",
      "constantly==15.1.0\n",
      "cryptography==2.5\n",
      "cssselect==1.0.3\n",
      "cupshelpers==1.0\n",
      "decorator==4.1.2\n",
      "defer==1.0.6\n",
      "distro-info==0.17\n",
      "Django==2.0.6\n",
      "docutils==0.14\n",
      "entrypoints==0.2.3.post1\n",
      "feedparser==5.1.3\n",
      "html5lib==0.999999999\n",
      "httplib2==0.9.2\n",
      "hyperlink==18.0.0\n",
      "idna==2.8\n",
      "imagesize==0.7.1\n",
      "incremental==17.5.0\n",
      "ipykernel==4.8.2\n",
      "ipython==5.5.0\n",
      "ipython-genutils==0.2.0\n",
      "isort==4.3.4\n",
      "jedi==0.11.1\n",
      "Jinja2==2.10\n",
      "jsonpatch==1.16\n",
      "jsonpointer==1.10\n",
      "jsonschema==2.6.0\n",
      "jupyter-client==5.2.2\n",
      "jupyter-core==4.4.0\n",
      "keyring==10.4.0\n",
      "keyrings.alt==2.2\n",
      "language-selector==0.1\n",
      "launchpadlib==1.10.5\n",
      "lazr.restfulclient==0.13.5\n",
      "lazr.uri==1.0.3\n",
      "lazy-object-proxy==1.3.1\n",
      "lightfm==1.15\n",
      "logilab-common==1.4.1\n",
      "louis==3.0.0\n",
      "lxc==0.1\n",
      "lxml==4.3.1\n",
      "Mako==1.0.7\n",
      "MarkupSafe==1.0\n",
      "mccabe==0.6.1\n",
      "mistune==0.8.3\n",
      "nbconvert==5.3.1\n",
      "nbformat==4.4.0\n",
      "nltk==3.4\n",
      "numpy==1.16.1\n",
      "numpydoc==0.7.0\n",
      "oauth==1.0.1\n",
      "oauthlib==3.0.1\n",
      "olefile==0.44\n",
      "pandas==0.24.1\n",
      "pandocfilters==1.4.2\n",
      "parso==0.1.1\n",
      "pbr==4.0.4\n",
      "pexpect==4.2.1\n",
      "photocollage==1.4.4\n",
      "pickleshare==0.7.4\n",
      "Pillow==4.1.1\n",
      "powerline-gitstatus==1.2.1\n",
      "powerline-status==2.5\n",
      "prompt-toolkit==1.0.15\n",
      "psutil==5.0.1\n",
      "psycopg2==2.7.5\n",
      "pyasn1==0.4.5\n",
      "pyasn1-modules==0.2.4\n",
      "pycodestyle==2.3.1\n",
      "pycparser==2.19\n",
      "pycrypto==2.6.1\n",
      "pycups==1.9.73\n",
      "pyflakes==1.6.0\n",
      "Pygments==2.2.0\n",
      "pygobject==3.24.1\n",
      "PyHamcrest==1.9.0\n",
      "pylint==1.8.3\n",
      "pymongo==3.7.2\n",
      "pyOpenSSL==19.0.0\n",
      "python-apt==1.4.0b3\n",
      "python-dateutil==2.8.0\n",
      "python-debian==0.1.30\n",
      "pytz==2018.9\n",
      "pyxdg==0.25\n",
      "PyYAML==3.12\n",
      "pyzmq==16.0.2\n",
      "QtAwesome==0.4.4\n",
      "qtconsole==4.3.1\n",
      "QtPy==1.3.1\n",
      "queuelib==1.5.0\n",
      "rake-nltk==1.0.4\n",
      "reportlab==3.4.0\n",
      "requests==2.21.0\n",
      "requests-oauthlib==1.2.0\n",
      "roman==2.0.0\n",
      "rope==0.10.5\n",
      "scikit-learn==0.20.2\n",
      "scipy==1.2.1\n",
      "Scrapy==1.0.3\n",
      "SecretStorage==2.3.1\n",
      "service-identity==18.1.0\n",
      "simplegeneric==0.8.1\n",
      "simplejson==3.11.1\n",
      "singledispatch==3.4.0.3\n",
      "six==1.12.0\n",
      "sklearn==0.0\n",
      "soupsieve==1.7.3\n",
      "Sphinx==1.6.7\n",
      "spyder==3.2.6\n",
      "stevedore==1.28.0\n",
      "system-service==0.3\n",
      "systemd-python==234\n",
      "testpath==0.3.1\n",
      "tornado==4.5.3\n",
      "traitlets==4.3.2\n",
      "tweepy==3.3.0\n",
      "Twisted==18.9.0\n",
      "ubuntu-drivers-common==0.0.0\n",
      "ufw==0.35\n",
      "unattended-upgrades==0.1\n",
      "unity-scope-calculator==0.1\n",
      "unity-scope-chromiumbookmarks==0.1\n",
      "unity-scope-colourlovers==0.1\n",
      "unity-scope-devhelp==0.1\n",
      "unity-scope-firefoxbookmarks==0.1\n",
      "unity-scope-manpages==0.1\n",
      "unity-scope-openclipart==0.1\n",
      "unity-scope-texdoc==0.1\n",
      "unity-scope-tomboy==0.1\n",
      "unity-scope-virtualbox==0.1\n",
      "unity-scope-yelp==0.1\n",
      "unity-scope-zotero==0.1\n",
      "unity-tweak-tool==0.0.7\n",
      "urllib3==1.24.1\n",
      "usb-creator==0.3.3\n",
      "virtualenv==16.0.0\n",
      "virtualenv-clone==0.3.0\n",
      "virtualenvwrapper==4.8.2\n",
      "w3lib==1.20.0\n",
      "wadllib==1.3.2\n",
      "wcwidth==0.1.7\n",
      "webencodings==0.5\n",
      "wrapt==1.9.0\n",
      "xkit==0.0.0\n",
      "zope.interface==4.6.0\n"
     ]
    }
   ],
   "source": [
    "!pip3 freeze"
   ]
  },
  {
   "cell_type": "markdown",
   "metadata": {},
   "source": [
    "**Coding Phase**"
   ]
  },
  {
   "cell_type": "markdown",
   "metadata": {},
   "source": [
    "In order to authorise MIDAS-python app to access Twitter we need to provide an OAuth interface:"
   ]
  },
  {
   "cell_type": "code",
   "execution_count": null,
   "metadata": {},
   "outputs": [],
   "source": [
    "import tweepy\n",
    "from tweepy import OAuthHandler\n",
    "import csv\n",
    "\n",
    "#Twitter API credentials\n",
    "consumer_key = 'Ut1OtYh9eN3Kpsy23QNaTrWFA'\n",
    "consumer_secret = 'CVBKeMPpYQ0SCL0SEIO1rWAuGrUhUyO6L9kUUmOHZd8ICB6fOi'\n",
    "access_key = '746049926648504320-nciHdZeUMTusxa4Y63oJ5yYhaTVpEvj'\n",
    "access_secret = 'w6gnrTuQrWXlUc0eAFa9fvAbIbYoEipQowsHxscPAhLTH'\n",
    "\n",
    "\n",
    "def get_tweets(screen_name):\n",
    "\t#Twitter only allows access to a users most recent 3240 tweets with this method\n",
    "\t\n",
    "\t#authorize twitter, initialize tweepy\n",
    "\tauth = tweepy.OAuthHandler(consumer_key, consumer_secret)\n",
    "\tauth.set_access_token(access_key, access_secret)\n",
    "\tapi = tweepy.API(auth)\n",
    "\t"
   ]
  },
  {
   "cell_type": "markdown",
   "metadata": {},
   "source": [
    "We manipulate the _api_ variable for the operations."
   ]
  },
  {
   "cell_type": "markdown",
   "metadata": {},
   "source": [
    "Next, we declare a list `alltweets` where we will be storing all the tweets for the given user. We store all the tweets from user midasIIITD at twitter. We store the most recent tweets and the id of midasIIITD's oldest tweet."
   ]
  },
  {
   "cell_type": "code",
   "execution_count": null,
   "metadata": {},
   "outputs": [],
   "source": [
    "    alltweets = []\t\n",
    "\t\n",
    "\t#make initial request for most recent tweets (200 is the maximum count allowed)\n",
    "\tnew_tweets = api.user_timeline(screen_name = screen_name,count=200)\n",
    "\t\n",
    "\t#store most recent tweets\n",
    "\talltweets.extend(new_tweets)\n",
    "\t\n",
    "\t#save the id of the oldest tweet - 1\n",
    "\toldest = alltweets[-1].id - 1"
   ]
  },
  {
   "cell_type": "markdown",
   "metadata": {},
   "source": [
    "The intention of this was to loop the following code block and store the tweets we obtain in `new_tweets` variable and this loop goes on till we reach `oldest` variable which stores the ID of the oldest tweet tweeted by midasIIITD."
   ]
  },
  {
   "cell_type": "code",
   "execution_count": null,
   "metadata": {},
   "outputs": [],
   "source": [
    "    while len(new_tweets) > 0:\n",
    "\t\tprint \"getting tweets before %s\" % (oldest)\n",
    "\t\t\n",
    "\t\t#all subsiquent requests use the max_id param to prevent duplicates\n",
    "\t\tnew_tweets = api.user_timeline(screen_name = screen_name,count=200,max_id=oldest)\n",
    "\t\t\n",
    "\t\t#save most recent tweets\n",
    "\t\talltweets.extend(new_tweets)\n",
    "\t\t\n",
    "\t\t#update the id of the oldest tweet less one\n",
    "\t\toldest = alltweets[-1].id - 1\n",
    "\t\t\n",
    "\t\tprint \"...%s tweets downloaded so far\" % (len(alltweets))\n",
    "\t\n",
    "\t#transform the tweepy tweets into a 2D array that will populate the csv\t\n",
    "\touttweets = [[tweet.id_str, tweet.created_at, tweet.text.encode(\"utf-8\")] for tweet in alltweets]\n",
    "\t\n",
    "\t#write the csv\t\n",
    "\twith open('%s_tweets.csv' % screen_name, 'wb') as f:\n",
    "\t\twriter = csv.writer(f)\n",
    "\t\twriter.writerow([\"id\",\"created_at\",\"text\"])\n",
    "\t\twriter.writerows(outtweets)\n",
    "\t\n",
    "\tpass"
   ]
  }
 ],
 "metadata": {
  "kernelspec": {
   "display_name": "Python 3",
   "language": "python",
   "name": "python3"
  },
  "language_info": {
   "codemirror_mode": {
    "name": "ipython",
    "version": 3
   },
   "file_extension": ".py",
   "mimetype": "text/x-python",
   "name": "python",
   "nbconvert_exporter": "python",
   "pygments_lexer": "ipython3",
   "version": "3.7.1"
  }
 },
 "nbformat": 4,
 "nbformat_minor": 2
}
